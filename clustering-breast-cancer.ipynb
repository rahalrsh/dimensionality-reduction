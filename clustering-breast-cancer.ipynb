{
 "cells": [
  {
   "cell_type": "code",
   "execution_count": 316,
   "id": "digital-martial",
   "metadata": {},
   "outputs": [],
   "source": [
    "import numpy as np\n",
    "import pandas as pd\n",
    "import seaborn as sns\n",
    "import matplotlib.pyplot as plt\n",
    "%matplotlib inline\n",
    "import time\n",
    "\n",
    "import warnings\n",
    "warnings.filterwarnings('ignore')\n",
    "\n",
    "%config Completer.use_jedi = False"
   ]
  },
  {
   "cell_type": "code",
   "execution_count": 317,
   "id": "familiar-worthy",
   "metadata": {},
   "outputs": [],
   "source": [
    "df = pd.read_csv(\"data/cancer/breast-cancer.csv\", index_col=\"id\")"
   ]
  },
  {
   "cell_type": "code",
   "execution_count": 318,
   "id": "union-idaho",
   "metadata": {},
   "outputs": [],
   "source": [
    "df = df.drop(columns='Unnamed: 32')"
   ]
  },
  {
   "cell_type": "code",
   "execution_count": 319,
   "id": "structured-premises",
   "metadata": {},
   "outputs": [
    {
     "data": {
      "text/plain": [
       "(569, 31)"
      ]
     },
     "execution_count": 319,
     "metadata": {},
     "output_type": "execute_result"
    }
   ],
   "source": [
    "df.shape"
   ]
  },
  {
   "cell_type": "markdown",
   "id": "purple-entrance",
   "metadata": {},
   "source": [
    "# Exploratory Data Analysis"
   ]
  },
  {
   "cell_type": "code",
   "execution_count": 320,
   "id": "flush-fight",
   "metadata": {},
   "outputs": [
    {
     "data": {
      "text/plain": [
       "<AxesSubplot:xlabel='diagnosis', ylabel='count'>"
      ]
     },
     "execution_count": 320,
     "metadata": {},
     "output_type": "execute_result"
    },
    {
     "data": {
      "image/png": "[encoded data removed]",
      "text/plain": [
       "<Figure size 432x288 with 1 Axes>"
      ]
     },
     "metadata": {
      "needs_background": "light"
     },
     "output_type": "display_data"
    }
   ],
   "source": [
    "diagnosis_map = {'B':0, 'M':1}\n",
    "df['diagnosis'] = df['diagnosis'].map(diagnosis_map)\n",
    "\n",
    "sns.countplot(x=df['diagnosis'])"
   ]
  },
  {
   "cell_type": "markdown",
   "id": "stuffed-exercise",
   "metadata": {},
   "source": [
    "# Import sklearn"
   ]
  },
  {
   "cell_type": "code",
   "execution_count": 321,
   "id": "documented-index",
   "metadata": {},
   "outputs": [],
   "source": [
    "import sklearn\n",
    "from sklearn.model_selection import train_test_split\n",
    "from sklearn.metrics import classification_report\n",
    "from sklearn.metrics import accuracy_score\n",
    "from sklearn.model_selection import cross_val_score\n",
    "from sklearn.model_selection import GridSearchCV\n",
    "from sklearn.base import clone\n",
    "from sklearn.preprocessing import MinMaxScaler, StandardScaler"
   ]
  },
  {
   "cell_type": "code",
   "execution_count": 322,
   "id": "contrary-theology",
   "metadata": {},
   "outputs": [
    {
     "data": {
      "text/plain": [
       "'0.23.2'"
      ]
     },
     "execution_count": 322,
     "metadata": {},
     "output_type": "execute_result"
    }
   ],
   "source": [
    "sklearn.__version__"
   ]
  },
  {
   "cell_type": "markdown",
   "id": "dimensional-defensive",
   "metadata": {},
   "source": [
    "# Split data"
   ]
  },
  {
   "cell_type": "code",
   "execution_count": 323,
   "id": "median-cooking",
   "metadata": {},
   "outputs": [],
   "source": [
    "x = df.drop(columns=['diagnosis'])\n",
    "y = df['diagnosis']"
   ]
  },
  {
   "cell_type": "code",
   "execution_count": 324,
   "id": "documentary-bouquet",
   "metadata": {},
   "outputs": [
    {
     "data": {
      "text/plain": [
       "0    357\n",
       "1    212\n",
       "Name: diagnosis, dtype: int64"
      ]
     },
     "execution_count": 324,
     "metadata": {},
     "output_type": "execute_result"
    }
   ],
   "source": [
    "y.value_counts()"
   ]
  },
  {
   "cell_type": "code",
   "execution_count": 325,
   "id": "organic-schema",
   "metadata": {},
   "outputs": [],
   "source": [
    "x_train, x_test, y_train, y_test = train_test_split(x, y, test_size=0.2, random_state=0)"
   ]
  },
  {
   "cell_type": "code",
   "execution_count": 326,
   "id": "invalid-dancing",
   "metadata": {},
   "outputs": [
    {
     "name": "stdout",
     "output_type": "stream",
     "text": [
      "train set size: (455, 30)\n",
      "test set size: (114, 30)\n"
     ]
    }
   ],
   "source": [
    "print(f\"train set size: {x_train.shape}\")\n",
    "print(f\"test set size: {x_test.shape}\")"
   ]
  },
  {
   "cell_type": "markdown",
   "id": "suited-modification",
   "metadata": {},
   "source": [
    "# Scale"
   ]
  },
  {
   "cell_type": "code",
   "execution_count": 327,
   "id": "natural-dispute",
   "metadata": {},
   "outputs": [],
   "source": [
    "scaler = StandardScaler()"
   ]
  },
  {
   "cell_type": "code",
   "execution_count": 328,
   "id": "finnish-probability",
   "metadata": {},
   "outputs": [],
   "source": [
    "x_train_sc = scaler.fit_transform(x_train)\n",
    "x_test_sc = scaler.fit_transform(x_test)"
   ]
  },
  {
   "cell_type": "code",
   "execution_count": 329,
   "id": "immediate-composer",
   "metadata": {},
   "outputs": [
    {
     "name": "stdout",
     "output_type": "stream",
     "text": [
      "-3.176344188780568\n",
      "11.731855390439586\n"
     ]
    }
   ],
   "source": [
    "print(np.min(x_train_sc))\n",
    "print(np.max(x_train_sc))"
   ]
  },
  {
   "cell_type": "code",
   "execution_count": null,
   "id": "integrated-reduction",
   "metadata": {},
   "outputs": [],
   "source": []
  },
  {
   "cell_type": "code",
   "execution_count": 330,
   "id": "comparable-outreach",
   "metadata": {},
   "outputs": [],
   "source": [
    "mm_scaler = MinMaxScaler()"
   ]
  },
  {
   "cell_type": "code",
   "execution_count": 331,
   "id": "saved-privilege",
   "metadata": {},
   "outputs": [],
   "source": [
    "x_train_mm = mm_scaler.fit_transform(x_train)\n",
    "x_test_mm = mm_scaler.fit_transform(x_test)"
   ]
  },
  {
   "cell_type": "code",
   "execution_count": 332,
   "id": "solid-hypothesis",
   "metadata": {},
   "outputs": [
    {
     "name": "stdout",
     "output_type": "stream",
     "text": [
      "0.0\n",
      "1.0\n"
     ]
    }
   ],
   "source": [
    "print(np.min(x_train_mm))\n",
    "print(np.max(x_train_mm))"
   ]
  },
  {
   "cell_type": "code",
   "execution_count": null,
   "id": "unknown-tractor",
   "metadata": {},
   "outputs": [],
   "source": []
  },
  {
   "cell_type": "markdown",
   "id": "extended-fantasy",
   "metadata": {},
   "source": [
    "# 1) Run Clustering"
   ]
  },
  {
   "cell_type": "code",
   "execution_count": 333,
   "id": "warming-oliver",
   "metadata": {},
   "outputs": [],
   "source": [
    "from sklearn.cluster import KMeans\n",
    "from sklearn.mixture import GaussianMixture\n",
    "from sklearn.metrics import silhouette_score"
   ]
  },
  {
   "cell_type": "code",
   "execution_count": null,
   "id": "bigger-aside",
   "metadata": {},
   "outputs": [],
   "source": []
  },
  {
   "cell_type": "code",
   "execution_count": 334,
   "id": "occasional-printing",
   "metadata": {},
   "outputs": [],
   "source": [
    "sum_of_squared_distances = []\n",
    "K = range(1,15)\n",
    "for k in K:\n",
    "    km = KMeans(n_clusters=k, random_state=0)\n",
    "    km = km.fit(x_train_sc)\n",
    "    sum_of_squared_distances.append(km.inertia_)"
   ]
  },
  {
   "cell_type": "code",
   "execution_count": 335,
   "id": "printable-index",
   "metadata": {},
   "outputs": [
    {
     "data": {
      "image/png": "[encoded data removed]",
      "text/plain": [
       "<Figure size 432x288 with 1 Axes>"
      ]
     },
     "metadata": {
      "needs_background": "light"
     },
     "output_type": "display_data"
    }
   ],
   "source": [
    "plt.plot(K, sum_of_squared_distances, 'bx-')\n",
    "plt.xlabel('k')\n",
    "plt.ylabel('Sum_of_squared_distances')\n",
    "plt.title('Elbow Method For Optimal k')\n",
    "plt.show()"
   ]
  },
  {
   "cell_type": "code",
   "execution_count": null,
   "id": "sporting-emperor",
   "metadata": {},
   "outputs": [],
   "source": []
  },
  {
   "cell_type": "markdown",
   "id": "average-technology",
   "metadata": {},
   "source": [
    "## 1.1) K-Means"
   ]
  },
  {
   "cell_type": "code",
   "execution_count": 336,
   "id": "entire-month",
   "metadata": {},
   "outputs": [],
   "source": [
    "# Silhouette Score: This is a better measure to decide the number of clusters to be formulated from the data. \n",
    "# It is calculated for each instance and the formula goes like this:\n",
    "# Silhouette Coefficient = (x-y)/ max(x,y)\n",
    "\n",
    "# consider two measures:\n",
    "#   The mean distance between a sample and all other points in the same cluster.\n",
    "#   The mean distance between a sample and all other points in the next nearest cluster.\n",
    "# i.e. it checks how much the clusters are compact and well separated. The more the score is near to one, the better the clustering is\n",
    "\n",
    "# https://towardsdatascience.com/gaussian-mixture-model-clusterization-how-to-select-the-number-of-components-clusters-553bef45f6e4"
   ]
  },
  {
   "cell_type": "code",
   "execution_count": 337,
   "id": "basic-vegetarian",
   "metadata": {},
   "outputs": [
    {
     "data": {
      "image/png": "[encoded data removed]",
      "text/plain": [
       "<Figure size 432x288 with 1 Axes>"
      ]
     },
     "metadata": {
      "needs_background": "light"
     },
     "output_type": "display_data"
    }
   ],
   "source": [
    "n_clusters=np.arange(2, 10)\n",
    "data=[]\n",
    "\n",
    "for n in n_clusters:\n",
    "    km = KMeans(n, random_state=0)\n",
    "    km = km.fit(x_train_sc)\n",
    "    labels = km.predict(x_train_sc)\n",
    "    sil = silhouette_score(x_train_sc, labels, metric='euclidean')\n",
    "    \n",
    "    data.append([n, sil])\n",
    "\n",
    "kmeans_df = pd.DataFrame(data, columns=[\"Clusters\", \"Silhouette Score\"])\n",
    "\n",
    "plt.title(\"K-means: \\nNumber of Clusters vs Silhouette Score\")\n",
    "plt.xlabel(\"Number of Clusters\")\n",
    "plt.ylabel(\"Silhouette Score\") \n",
    "plt.plot(kmeans_df[\"Clusters\"], kmeans_df[\"Silhouette Score\"])\n",
    "plt.show()\n"
   ]
  },
  {
   "cell_type": "code",
   "execution_count": null,
   "id": "patent-oasis",
   "metadata": {},
   "outputs": [],
   "source": []
  },
  {
   "cell_type": "markdown",
   "id": "broken-failing",
   "metadata": {},
   "source": [
    "## 1.2) EM"
   ]
  },
  {
   "cell_type": "code",
   "execution_count": 338,
   "id": "injured-affairs",
   "metadata": {},
   "outputs": [
    {
     "data": {
      "image/png": "[encoded data removed]",
      "text/plain": [
       "<Figure size 432x288 with 1 Axes>"
      ]
     },
     "metadata": {
      "needs_background": "light"
     },
     "output_type": "display_data"
    }
   ],
   "source": [
    "n_clusters=np.arange(2, 10)\n",
    "data=[]\n",
    "\n",
    "for n in n_clusters:\n",
    "    gmm = GaussianMixture(n, random_state=0)\n",
    "    gmm = gmm.fit(x_train_sc)\n",
    "    labels = gmm.predict(x_train_sc)\n",
    "    sil = silhouette_score(x_train_sc, labels, metric='euclidean')\n",
    "    \n",
    "    data.append([n, sil])\n",
    "\n",
    "em_df = pd.DataFrame(data, columns=[\"Clusters\", \"Silhouette Score\"])\n",
    "\n",
    "plt.title(\"K-means: \\nNumber of Clusters vs Silhouette Score\")\n",
    "plt.xlabel(\"Number of Clusters\")\n",
    "plt.ylabel(\"Silhouette Score\") \n",
    "plt.plot(em_df[\"Clusters\"], em_df[\"Silhouette Score\"])\n",
    "plt.show()"
   ]
  },
  {
   "cell_type": "code",
   "execution_count": 339,
   "id": "concrete-reconstruction",
   "metadata": {},
   "outputs": [],
   "source": [
    "### BIC\n",
    "# Bayesian information criterion (BIC)\n",
    "# how much is good the GMM in terms of predicting the data we actually have. \n",
    "# The lower is the BIC, the better is the model to actually predict the data we have"
   ]
  },
  {
   "cell_type": "code",
   "execution_count": null,
   "id": "sublime-telescope",
   "metadata": {},
   "outputs": [],
   "source": []
  },
  {
   "cell_type": "markdown",
   "id": "negative-factor",
   "metadata": {},
   "source": [
    "# 2) Dimensionality reduction"
   ]
  },
  {
   "cell_type": "code",
   "execution_count": 340,
   "id": "sweet-calcium",
   "metadata": {},
   "outputs": [],
   "source": [
    "from sklearn.decomposition import PCA\n",
    "from sklearn.decomposition import FastICA as ICA\n",
    "from sklearn import random_projection as RP\n",
    "from sklearn.discriminant_analysis import LinearDiscriminantAnalysis as LDA"
   ]
  },
  {
   "cell_type": "code",
   "execution_count": null,
   "id": "faced-protocol",
   "metadata": {},
   "outputs": [],
   "source": []
  },
  {
   "cell_type": "markdown",
   "id": "eight-sheet",
   "metadata": {},
   "source": [
    "## 2.1) PCA"
   ]
  },
  {
   "cell_type": "code",
   "execution_count": 341,
   "id": "cathedral-gateway",
   "metadata": {},
   "outputs": [
    {
     "name": "stdout",
     "output_type": "stream",
     "text": [
      "7 components picked to retain 0.9 variance\n"
     ]
    }
   ],
   "source": [
    "retain_variance = 0.90\n",
    "\n",
    "pca = PCA(retain_variance)\n",
    "principalComponents = pca.fit(x_train_sc)\n",
    "\n",
    "comp_num = pca.n_components_\n",
    "\n",
    "print(f\"{comp_num} components picked to retain {retain_variance} variance\")"
   ]
  },
  {
   "cell_type": "code",
   "execution_count": null,
   "id": "imported-teens",
   "metadata": {},
   "outputs": [],
   "source": []
  },
  {
   "cell_type": "code",
   "execution_count": 342,
   "id": "satisfied-hybrid",
   "metadata": {},
   "outputs": [],
   "source": [
    "pca = PCA(n_components=comp_num)\n",
    "principalComponents = pca.fit_transform(x_train_sc)"
   ]
  },
  {
   "cell_type": "code",
   "execution_count": 343,
   "id": "dried-chapel",
   "metadata": {},
   "outputs": [
    {
     "name": "stdout",
     "output_type": "stream",
     "text": [
      "['principal component 1', 'principal component 2', 'principal component 3', 'principal component 4', 'principal component 5', 'principal component 6', 'principal component 7']\n"
     ]
    }
   ],
   "source": [
    "columns = []\n",
    "for i in range(comp_num):\n",
    "    columns.append(f\"principal component {i+1}\")\n",
    "    \n",
    "print(columns)"
   ]
  },
  {
   "cell_type": "code",
   "execution_count": 344,
   "id": "centered-responsibility",
   "metadata": {},
   "outputs": [],
   "source": [
    "principalDf = pd.DataFrame(data = principalComponents, columns = columns)"
   ]
  },
  {
   "cell_type": "code",
   "execution_count": 345,
   "id": "extensive-communist",
   "metadata": {},
   "outputs": [],
   "source": [
    "principalDf['diagnosis'] = y_train.values"
   ]
  },
  {
   "cell_type": "code",
   "execution_count": 346,
   "id": "moved-bundle",
   "metadata": {},
   "outputs": [
    {
     "data": {
      "text/html": [
       "<div>\n",
       "<style scoped>\n",
       "    .dataframe tbody tr th:only-of-type {\n",
       "        vertical-align: middle;\n",
       "    }\n",
       "\n",
       "    .dataframe tbody tr th {\n",
       "        vertical-align: top;\n",
       "    }\n",
       "\n",
       "    .dataframe thead th {\n",
       "        text-align: right;\n",
       "    }\n",
       "</style>\n",
       "<table border=\"1\" class=\"dataframe\">\n",
       "  <thead>\n",
       "    <tr style=\"text-align: right;\">\n",
       "      <th></th>\n",
       "      <th>principal component 1</th>\n",
       "      <th>principal component 2</th>\n",
       "      <th>principal component 3</th>\n",
       "      <th>principal component 4</th>\n",
       "      <th>principal component 5</th>\n",
       "      <th>principal component 6</th>\n",
       "      <th>principal component 7</th>\n",
       "      <th>diagnosis</th>\n",
       "    </tr>\n",
       "  </thead>\n",
       "  <tbody>\n",
       "    <tr>\n",
       "      <th>0</th>\n",
       "      <td>-3.039161</td>\n",
       "      <td>1.106670</td>\n",
       "      <td>0.408520</td>\n",
       "      <td>0.651555</td>\n",
       "      <td>-1.441651</td>\n",
       "      <td>-0.144347</td>\n",
       "      <td>-0.239526</td>\n",
       "      <td>0</td>\n",
       "    </tr>\n",
       "    <tr>\n",
       "      <th>1</th>\n",
       "      <td>-2.282314</td>\n",
       "      <td>0.400452</td>\n",
       "      <td>0.263275</td>\n",
       "      <td>1.701245</td>\n",
       "      <td>-0.466131</td>\n",
       "      <td>0.602709</td>\n",
       "      <td>-0.252815</td>\n",
       "      <td>0</td>\n",
       "    </tr>\n",
       "    <tr>\n",
       "      <th>2</th>\n",
       "      <td>-1.084095</td>\n",
       "      <td>-1.995444</td>\n",
       "      <td>-1.193536</td>\n",
       "      <td>-1.491333</td>\n",
       "      <td>0.565976</td>\n",
       "      <td>0.192945</td>\n",
       "      <td>-0.540865</td>\n",
       "      <td>0</td>\n",
       "    </tr>\n",
       "    <tr>\n",
       "      <th>3</th>\n",
       "      <td>-2.561100</td>\n",
       "      <td>0.179338</td>\n",
       "      <td>1.085279</td>\n",
       "      <td>-0.621311</td>\n",
       "      <td>-0.474188</td>\n",
       "      <td>-0.176897</td>\n",
       "      <td>-0.257803</td>\n",
       "      <td>0</td>\n",
       "    </tr>\n",
       "    <tr>\n",
       "      <th>4</th>\n",
       "      <td>-2.848305</td>\n",
       "      <td>-1.017616</td>\n",
       "      <td>-0.847290</td>\n",
       "      <td>1.762525</td>\n",
       "      <td>-0.021795</td>\n",
       "      <td>0.302202</td>\n",
       "      <td>0.756510</td>\n",
       "      <td>0</td>\n",
       "    </tr>\n",
       "  </tbody>\n",
       "</table>\n",
       "</div>"
      ],
      "text/plain": [
       "   principal component 1  principal component 2  principal component 3  \\\n",
       "0              -3.039161               1.106670               0.408520   \n",
       "1              -2.282314               0.400452               0.263275   \n",
       "2              -1.084095              -1.995444              -1.193536   \n",
       "3              -2.561100               0.179338               1.085279   \n",
       "4              -2.848305              -1.017616              -0.847290   \n",
       "\n",
       "   principal component 4  principal component 5  principal component 6  \\\n",
       "0               0.651555              -1.441651              -0.144347   \n",
       "1               1.701245              -0.466131               0.602709   \n",
       "2              -1.491333               0.565976               0.192945   \n",
       "3              -0.621311              -0.474188              -0.176897   \n",
       "4               1.762525              -0.021795               0.302202   \n",
       "\n",
       "   principal component 7  diagnosis  \n",
       "0              -0.239526          0  \n",
       "1              -0.252815          0  \n",
       "2              -0.540865          0  \n",
       "3              -0.257803          0  \n",
       "4               0.756510          0  "
      ]
     },
     "execution_count": 346,
     "metadata": {},
     "output_type": "execute_result"
    }
   ],
   "source": [
    "principalDf.head()"
   ]
  },
  {
   "cell_type": "code",
   "execution_count": null,
   "id": "embedded-lodge",
   "metadata": {},
   "outputs": [],
   "source": []
  },
  {
   "cell_type": "code",
   "execution_count": 347,
   "id": "compliant-highland",
   "metadata": {},
   "outputs": [
    {
     "data": {
      "image/png": "[encoded data removed]",
      "text/plain": [
       "<Figure size 576x576 with 1 Axes>"
      ]
     },
     "metadata": {
      "needs_background": "light"
     },
     "output_type": "display_data"
    }
   ],
   "source": [
    "fig = plt.figure(figsize = (8,8))\n",
    "\n",
    "ax = fig.add_subplot(1,1,1) \n",
    "ax.set_xlabel('Principal Component 1')\n",
    "ax.set_ylabel('Principal Component 2')\n",
    "ax.set_title('PCA: Visualization')\n",
    "\n",
    "diagnosis = [0, 1]\n",
    "colors = ['r', 'g']\n",
    "\n",
    "for target, color in zip(diagnosis, colors):\n",
    "    indicesToKeep = principalDf['diagnosis'] == target\n",
    "    ax.scatter(principalDf.loc[indicesToKeep, 'principal component 1']\n",
    "               , principalDf.loc[indicesToKeep, 'principal component 2']\n",
    "               , c = color\n",
    "               , s = 50)\n",
    "\n",
    "    ax.legend(diagnosis)\n",
    "ax.grid()"
   ]
  },
  {
   "cell_type": "code",
   "execution_count": 348,
   "id": "instrumental-weapon",
   "metadata": {},
   "outputs": [],
   "source": [
    "# The explained variance tells you how much information (variance) can be \n",
    "# attributed to each of the principal components"
   ]
  },
  {
   "cell_type": "code",
   "execution_count": 349,
   "id": "distributed-throw",
   "metadata": {},
   "outputs": [
    {
     "name": "stdout",
     "output_type": "stream",
     "text": [
      "Explained variation per principal component:\n",
      "\n",
      "[0.43430767 0.19740115 0.09351771 0.06677661 0.05642452 0.04071619\n",
      " 0.02149254]\n"
     ]
    }
   ],
   "source": [
    "print(\"Explained variation per principal component:\\n\")\n",
    "print(pca.explained_variance_ratio_)"
   ]
  },
  {
   "cell_type": "code",
   "execution_count": 350,
   "id": "threatened-arkansas",
   "metadata": {},
   "outputs": [
    {
     "data": {
      "text/plain": [
       "0.9106363829667495"
      ]
     },
     "execution_count": 350,
     "metadata": {},
     "output_type": "execute_result"
    }
   ],
   "source": [
    "np.sum(pca.explained_variance_ratio_)"
   ]
  },
  {
   "cell_type": "code",
   "execution_count": null,
   "id": "considerable-battlefield",
   "metadata": {},
   "outputs": [],
   "source": []
  },
  {
   "cell_type": "code",
   "execution_count": 351,
   "id": "featured-advocacy",
   "metadata": {},
   "outputs": [],
   "source": [
    "def run_pca(x_train):\n",
    "    \"\"\"\n",
    "    Run PCA and plot variance retained for each number of components\n",
    "    \"\"\"\n",
    "    \n",
    "    n = x_train_sc.shape[1]\n",
    "    data = []\n",
    "    \n",
    "    for num in range(1, n+1): \n",
    "        pca = PCA(n_components=num)\n",
    "        principalComponents = pca.fit_transform(x_train)\n",
    "        \n",
    "        variance_retained = np.sum(pca.explained_variance_ratio_)\n",
    "        \n",
    "        data.append([num, variance_retained])\n",
    "        \n",
    "    df = pd.DataFrame(data, columns=[\"Features\", \"Variance Retained\"])\n",
    "    \n",
    "    plt.title(\"PCA: \\nNumber of Features vs Variance Retained\")\n",
    "    plt.xlabel(\"Number of Features\")\n",
    "    plt.ylabel(\"Variance Retained\") \n",
    "    plt.plot(df[\"Features\"], df[\"Variance Retained\"])\n",
    "    plt.show()"
   ]
  },
  {
   "cell_type": "code",
   "execution_count": 352,
   "id": "falling-chapel",
   "metadata": {},
   "outputs": [
    {
     "data": {
      "image/png": "[encoded data removed]",
      "text/plain": [
       "<Figure size 432x288 with 1 Axes>"
      ]
     },
     "metadata": {
      "needs_background": "light"
     },
     "output_type": "display_data"
    }
   ],
   "source": [
    "run_pca(x_train_sc)"
   ]
  },
  {
   "cell_type": "code",
   "execution_count": 353,
   "id": "applicable-technique",
   "metadata": {},
   "outputs": [],
   "source": [
    "# 7 features to retain 90% of the variance"
   ]
  },
  {
   "cell_type": "code",
   "execution_count": null,
   "id": "serious-neighbor",
   "metadata": {},
   "outputs": [],
   "source": []
  },
  {
   "cell_type": "markdown",
   "id": "another-ideal",
   "metadata": {},
   "source": [
    "## 2.2) ICA"
   ]
  },
  {
   "cell_type": "code",
   "execution_count": 370,
   "id": "comparative-terminology",
   "metadata": {},
   "outputs": [],
   "source": [
    "def run_ica(x_train):\n",
    "    \"\"\"\n",
    "    Run ICA from n_components 1 to N and get average  kurtosis\n",
    "    \"\"\"\n",
    "    n = x_train_sc.shape[1]\n",
    "    data = []\n",
    "    \n",
    "    for num in range(1, n+1):    \n",
    "        transformer = ICA(n_components=num, random_state=0)\n",
    "        x_transformed = transformer.fit_transform(x_train)\n",
    "\n",
    "        x_transformed = pd.DataFrame(x_transformed)\n",
    "        kurtosis = x_transformed.kurtosis(axis=0)\n",
    "        kurtosis_mean = kurtosis.abs().mean()\n",
    "        \n",
    "        data.append(kurtosis_mean)\n",
    "        print(kurtosis_mean)\n",
    "        \n",
    "\n",
    "    plt.xlabel(\"Number of IC\")\n",
    "    plt.ylabel(\"Kurtosis\")\n",
    "    plt.plot(range(1, n+1), data)\n",
    "    plt.grid()\n",
    "    plt.show()"
   ]
  },
  {
   "cell_type": "code",
   "execution_count": 371,
   "id": "german-burden",
   "metadata": {},
   "outputs": [
    {
     "name": "stdout",
     "output_type": "stream",
     "text": [
      "0.9966876299638496\n",
      "3.38971263606171\n",
      "5.397555748388009\n",
      "5.401016494221768\n",
      "7.952751876041543\n",
      "7.275453730832422\n",
      "10.560719628115752\n",
      "10.305302280283012\n",
      "13.095294178474616\n",
      "14.12128703132199\n",
      "20.422930504877925\n",
      "20.204610236923674\n",
      "19.741100380349717\n",
      "20.306768406158312\n",
      "21.137835362199162\n",
      "21.30758136072306\n",
      "24.34513663189163\n",
      "25.287521905370774\n",
      "24.390798340352557\n",
      "25.364672531155296\n",
      "27.930731024627015\n",
      "28.359025163969058\n",
      "30.682527596381203\n",
      "32.47656732927501\n",
      "32.30254128295453\n",
      "33.415777864777425\n",
      "32.34801127241007\n",
      "32.4638727833893\n",
      "34.08769197737268\n",
      "33.66436022828681\n"
     ]
    },
    {
     "data": {
      "image/png": "[encoded data removed]",
      "text/plain": [
       "<Figure size 432x288 with 1 Axes>"
      ]
     },
     "metadata": {
      "needs_background": "light"
     },
     "output_type": "display_data"
    }
   ],
   "source": [
    "run_ica(x_train_sc)"
   ]
  },
  {
   "cell_type": "code",
   "execution_count": 356,
   "id": "early-december",
   "metadata": {},
   "outputs": [],
   "source": [
    "def run_ica_2(x_train):\n",
    "    \"\"\"\n",
    "    Run ICA for N n_components kurtosis for each component\n",
    "    \"\"\"\n",
    "    n = x_train_sc.shape[1]  \n",
    "    transformer = ICA(n_components=n, random_state=0)\n",
    "    x_transformed = transformer.fit_transform(x_train)\n",
    "    x_transformed = pd.DataFrame(x_transformed)    \n",
    "    kurtosis = x_transformed.kurtosis(axis=0)\n",
    "    print(kurtosis)\n",
    "    kurtosis_abs = kurtosis.abs()\n",
    "        \n",
    "    data = []\n",
    "    for i, k in enumerate(kurtosis_abs):\n",
    "        data.append([f\"IC{i+1}\", k])\n",
    "    \n",
    "    p = pd.DataFrame(data, columns=[\"IC\", \"Kurtosis\"])\n",
    "    \n",
    "    # get only top 10 IC    \n",
    "    p.sort_values(by=\"Kurtosis\", ascending=False, inplace=True)\n",
    "    \n",
    "    x_labels = p[\"IC\"][:10]\n",
    "    y_values = p[\"Kurtosis\"][:10]    \n",
    "    \n",
    "#     plt.title(title)\n",
    "    plt.ylabel(\"Kurtosis\") \n",
    "    plt.bar(x_labels, y_values)\n",
    "    plt.show()\n",
    "    \n"
   ]
  },
  {
   "cell_type": "code",
   "execution_count": 357,
   "id": "available-royalty",
   "metadata": {},
   "outputs": [
    {
     "name": "stdout",
     "output_type": "stream",
     "text": [
      "0       9.952886\n",
      "1       4.758882\n",
      "2      51.423999\n",
      "3      17.055521\n",
      "4       3.435681\n",
      "5     203.697309\n",
      "6       2.782612\n",
      "7     249.004256\n",
      "8       1.687786\n",
      "9      13.291123\n",
      "10     29.248202\n",
      "11     -0.560857\n",
      "12      3.975138\n",
      "13      6.115748\n",
      "14      9.853228\n",
      "15     35.474407\n",
      "16      2.622418\n",
      "17      7.075782\n",
      "18     18.851063\n",
      "19      4.323989\n",
      "20      5.178269\n",
      "21     45.372366\n",
      "22      7.509873\n",
      "23      6.872511\n",
      "24     97.942676\n",
      "25      5.071784\n",
      "26     90.103064\n",
      "27     39.334446\n",
      "28     18.355744\n",
      "29     18.999188\n",
      "dtype: float64\n"
     ]
    },
    {
     "data": {
      "image/png": "[encoded data removed]",
      "text/plain": [
       "<Figure size 432x288 with 1 Axes>"
      ]
     },
     "metadata": {
      "needs_background": "light"
     },
     "output_type": "display_data"
    }
   ],
   "source": [
    "run_ica_2(x_train_sc)"
   ]
  },
  {
   "cell_type": "code",
   "execution_count": null,
   "id": "tutorial-postcard",
   "metadata": {},
   "outputs": [],
   "source": []
  },
  {
   "cell_type": "code",
   "execution_count": null,
   "id": "helpful-stretch",
   "metadata": {},
   "outputs": [],
   "source": []
  },
  {
   "cell_type": "markdown",
   "id": "popular-camping",
   "metadata": {},
   "source": [
    "## 2.3 RCA  (Randomized Projection)"
   ]
  },
  {
   "cell_type": "code",
   "execution_count": 358,
   "id": "organizational-pound",
   "metadata": {},
   "outputs": [],
   "source": [
    "from sklearn.metrics import mean_squared_error as MSE"
   ]
  },
  {
   "cell_type": "code",
   "execution_count": 359,
   "id": "serious-headline",
   "metadata": {},
   "outputs": [],
   "source": [
    "def run_rp(x_train):\n",
    "    \"\"\"\n",
    "    random projection\n",
    "    \"\"\"\n",
    "\n",
    "    n = x_train_sc.shape[1]\n",
    "    data = []\n",
    "    \n",
    "    for num in range(1, n+1):\n",
    "#         transformer = RP.SparseRandomProjection(n_components=num, random_state=0)\n",
    "        \n",
    "        transformer = RP.GaussianRandomProjection(n_components=num, random_state=0)\n",
    "        x_transformed = transformer.fit_transform(x_train)\n",
    "        \n",
    "        inverse_data = np.linalg.pinv(transformer.components_.T)\n",
    "        reconstructed_data = x_transformed.dot(inverse_data)\n",
    "        \n",
    "        error = MSE(x_train, reconstructed_data)\n",
    "        \n",
    "        data.append([num, error])\n",
    "        \n",
    "        print(f\"{num} error={error}\")\n",
    "        \n",
    "    df = pd.DataFrame(data, columns=[\"Features\", \"Reconstruction Error (MSE)\"])\n",
    "      \n",
    "    plt.title(\"Random Projection: \\nNumber of Features vs Reconstruction Error\")\n",
    "    plt.xlabel(\"Number of Features\")\n",
    "    plt.ylabel(\"Reconstruction Error (MSE)\") \n",
    "    plt.plot(df[\"Features\"], df[\"Reconstruction Error (MSE)\"])\n",
    "    plt.show()"
   ]
  },
  {
   "cell_type": "code",
   "execution_count": 360,
   "id": "seeing-diary",
   "metadata": {},
   "outputs": [
    {
     "name": "stdout",
     "output_type": "stream",
     "text": [
      "1 error=0.9591388869980736\n",
      "2 error=0.9402563262606025\n",
      "3 error=0.8997627582750789\n",
      "4 error=0.7804784445097371\n",
      "5 error=0.7720018025369867\n",
      "6 error=0.7398317399772064\n",
      "7 error=0.6837749139819014\n",
      "8 error=0.6643771233479747\n",
      "9 error=0.638833114930472\n",
      "10 error=0.5965833065858527\n",
      "11 error=0.5713166734123777\n",
      "12 error=0.5386771986395035\n",
      "13 error=0.47834198302005343\n",
      "14 error=0.4286268960595964\n",
      "15 error=0.40464821208114027\n",
      "16 error=0.3855461633381738\n",
      "17 error=0.36928747357999114\n",
      "18 error=0.32229227103860636\n",
      "19 error=0.30987486361945327\n",
      "20 error=0.2602769995951951\n",
      "21 error=0.24103065783634556\n",
      "22 error=0.23176286141676572\n",
      "23 error=0.218649436904855\n",
      "24 error=0.1490881012782022\n",
      "25 error=0.12866219075200863\n",
      "26 error=0.10561464873869184\n",
      "27 error=0.059350765649550684\n",
      "28 error=0.02745783743869112\n",
      "29 error=0.013707656458000919\n",
      "30 error=1.3705112033626296e-29\n"
     ]
    },
    {
     "data": {
      "image/png": "[encoded data removed]",
      "text/plain": [
       "<Figure size 432x288 with 1 Axes>"
      ]
     },
     "metadata": {
      "needs_background": "light"
     },
     "output_type": "display_data"
    }
   ],
   "source": [
    "run_rp(x_train_sc)"
   ]
  },
  {
   "cell_type": "code",
   "execution_count": null,
   "id": "permanent-electronics",
   "metadata": {},
   "outputs": [],
   "source": []
  },
  {
   "cell_type": "code",
   "execution_count": null,
   "id": "great-folder",
   "metadata": {},
   "outputs": [],
   "source": []
  },
  {
   "cell_type": "code",
   "execution_count": null,
   "id": "purple-wrong",
   "metadata": {},
   "outputs": [],
   "source": []
  },
  {
   "cell_type": "code",
   "execution_count": null,
   "id": "further-survivor",
   "metadata": {},
   "outputs": [],
   "source": []
  },
  {
   "cell_type": "markdown",
   "id": "authentic-criterion",
   "metadata": {},
   "source": [
    "## 2.4 LDA (Linear Discriminant Analysis)"
   ]
  },
  {
   "cell_type": "code",
   "execution_count": null,
   "id": "agricultural-academy",
   "metadata": {},
   "outputs": [],
   "source": []
  },
  {
   "cell_type": "code",
   "execution_count": 395,
   "id": "mounted-cause",
   "metadata": {},
   "outputs": [],
   "source": [
    "def run_lda(x_train, y_train):\n",
    "    \"\"\"\n",
    "    Linear Discriminant Analysis\n",
    "    \"\"\"\n",
    "\n",
    "    # n_components cannot be larger than min(n_features, n_classes - 1).\n",
    "    \n",
    "    n_features = x_train_sc.shape[1]\n",
    "    n_classes = len(np.unique(y_train))\n",
    "    n = np.min([n_features, n_classes - 1])\n",
    "    \n",
    "    data = []\n",
    "    \n",
    "    for num in range(1, n+1):\n",
    "        clf = LDA(n_components=num)\n",
    "        x_transformed = clf.fit_transform(x_train, y_train)\n"
   ]
  },
  {
   "cell_type": "code",
   "execution_count": null,
   "id": "broad-transaction",
   "metadata": {},
   "outputs": [],
   "source": []
  },
  {
   "cell_type": "code",
   "execution_count": 396,
   "id": "touched-democrat",
   "metadata": {},
   "outputs": [],
   "source": [
    "run_lda(x_train_sc, y_train)"
   ]
  },
  {
   "cell_type": "code",
   "execution_count": null,
   "id": "legendary-disaster",
   "metadata": {},
   "outputs": [],
   "source": []
  },
  {
   "cell_type": "code",
   "execution_count": null,
   "id": "returning-equipment",
   "metadata": {},
   "outputs": [],
   "source": []
  },
  {
   "cell_type": "markdown",
   "id": "liked-reputation",
   "metadata": {},
   "source": [
    "# 3) DR -> Clustering"
   ]
  },
  {
   "cell_type": "code",
   "execution_count": null,
   "id": "formed-volleyball",
   "metadata": {},
   "outputs": [],
   "source": []
  },
  {
   "cell_type": "markdown",
   "id": "actual-phase",
   "metadata": {},
   "source": [
    "- 3.1) PCA -> K-means\n",
    "- 3.2) PCA -> EM\n",
    "\n",
    "- 3.3) ICA -> K-means\n",
    "- 3.4) ICA -> EM\n",
    "\n",
    "- 3.5) RP -> K-means\n",
    "- 3.6) RP -> EM\n",
    "\n",
    "- 3.7) LDA -> K-means\n",
    "- 3.8) LDA -> EM"
   ]
  },
  {
   "cell_type": "code",
   "execution_count": null,
   "id": "therapeutic-opening",
   "metadata": {},
   "outputs": [],
   "source": []
  },
  {
   "cell_type": "markdown",
   "id": "hollywood-editing",
   "metadata": {},
   "source": [
    "## 3.1) PCA -> K-means"
   ]
  },
  {
   "cell_type": "code",
   "execution_count": 376,
   "id": "latin-combination",
   "metadata": {},
   "outputs": [],
   "source": [
    "pca = PCA(n_components = 7)\n",
    "x_transformed = pca.fit_transform(x_train_sc)\n",
    "\n",
    "x_transformed = pd.DataFrame(x_transformed)"
   ]
  },
  {
   "cell_type": "code",
   "execution_count": null,
   "id": "affected-mediterranean",
   "metadata": {},
   "outputs": [],
   "source": []
  },
  {
   "cell_type": "code",
   "execution_count": 377,
   "id": "stuffed-triangle",
   "metadata": {},
   "outputs": [
    {
     "data": {
      "image/png": "[encoded data removed]",
      "text/plain": [
       "<Figure size 432x288 with 1 Axes>"
      ]
     },
     "metadata": {
      "needs_background": "light"
     },
     "output_type": "display_data"
    }
   ],
   "source": [
    "n_clusters=np.arange(2, 10)\n",
    "data=[]\n",
    "\n",
    "for n in n_clusters:\n",
    "    km = KMeans(n, random_state=0)\n",
    "    km = km.fit(x_transformed)\n",
    "    labels = km.predict(x_transformed)\n",
    "    sil = silhouette_score(x_transformed, labels, metric='euclidean')\n",
    "    \n",
    "    data.append([n, sil])\n",
    "\n",
    "pca_kmeans_df = pd.DataFrame(data, columns=[\"Clusters\", \"Silhouette Score\"])\n",
    "\n",
    "plt.title(\"PCA + K-means: \\nNumber of Clusters vs Silhouette Score\")\n",
    "plt.xlabel(\"Number of Clusters\")\n",
    "plt.ylabel(\"Silhouette Score\") \n",
    "\n",
    "plt.plot(pca_kmeans_df[\"Clusters\"], pca_kmeans_df[\"Silhouette Score\"], color='r', label='PCA + K Means')\n",
    "plt.plot(kmeans_df[\"Clusters\"], kmeans_df[\"Silhouette Score\"], color='g', label='K Means')\n",
    "\n",
    "plt.legend()\n",
    "plt.show()"
   ]
  },
  {
   "cell_type": "code",
   "execution_count": null,
   "id": "substantial-turning",
   "metadata": {},
   "outputs": [],
   "source": []
  },
  {
   "cell_type": "code",
   "execution_count": null,
   "id": "passive-continuity",
   "metadata": {},
   "outputs": [],
   "source": []
  },
  {
   "cell_type": "markdown",
   "id": "varying-hands",
   "metadata": {},
   "source": [
    "## 3.2) PCA -> EM"
   ]
  },
  {
   "cell_type": "code",
   "execution_count": 378,
   "id": "parallel-capture",
   "metadata": {},
   "outputs": [],
   "source": [
    "pca = PCA(n_components = 7)\n",
    "x_transformed = pca.fit_transform(x_train_sc)\n",
    "\n",
    "x_transformed = pd.DataFrame(x_transformed)"
   ]
  },
  {
   "cell_type": "code",
   "execution_count": null,
   "id": "specified-delaware",
   "metadata": {},
   "outputs": [],
   "source": []
  },
  {
   "cell_type": "code",
   "execution_count": 379,
   "id": "knowing-white",
   "metadata": {},
   "outputs": [
    {
     "data": {
      "image/png": "[encoded data removed]",
      "text/plain": [
       "<Figure size 432x288 with 1 Axes>"
      ]
     },
     "metadata": {
      "needs_background": "light"
     },
     "output_type": "display_data"
    }
   ],
   "source": [
    "n_clusters=np.arange(2, 10)\n",
    "data=[]\n",
    "\n",
    "for n in n_clusters:\n",
    "    gmm = GaussianMixture(n, random_state=0)\n",
    "    gmm = gmm.fit(x_transformed)\n",
    "    labels = gmm.predict(x_transformed)\n",
    "    sil = silhouette_score(x_transformed, labels, metric='euclidean')\n",
    "    \n",
    "    data.append([n, sil])\n",
    "\n",
    "pca_em_df = pd.DataFrame(data, columns=[\"Clusters\", \"Silhouette Score\"])\n",
    "\n",
    "plt.title(\"PCA + EM: \\nNumber of Clusters vs Silhouette Score\")\n",
    "plt.xlabel(\"Number of Clusters\")\n",
    "plt.ylabel(\"Silhouette Score\") \n",
    "\n",
    "plt.plot(pca_em_df[\"Clusters\"], pca_em_df[\"Silhouette Score\"], color='r', label='PCA + EM')\n",
    "plt.plot(em_df[\"Clusters\"], em_df[\"Silhouette Score\"], color='g', label='EM')\n",
    "\n",
    "plt.legend()\n",
    "plt.show()"
   ]
  },
  {
   "cell_type": "code",
   "execution_count": null,
   "id": "impressed-threat",
   "metadata": {},
   "outputs": [],
   "source": []
  },
  {
   "cell_type": "code",
   "execution_count": null,
   "id": "exterior-helmet",
   "metadata": {},
   "outputs": [],
   "source": []
  },
  {
   "cell_type": "code",
   "execution_count": null,
   "id": "stopped-filling",
   "metadata": {},
   "outputs": [],
   "source": []
  },
  {
   "cell_type": "markdown",
   "id": "alleged-contractor",
   "metadata": {},
   "source": [
    "## 3.3) ICA -> K-means"
   ]
  },
  {
   "cell_type": "code",
   "execution_count": 385,
   "id": "miniature-blackberry",
   "metadata": {},
   "outputs": [],
   "source": [
    "transformer = ICA(n_components=29, random_state=0)\n",
    "x_transformed = transformer.fit_transform(x_train_sc)"
   ]
  },
  {
   "cell_type": "code",
   "execution_count": 386,
   "id": "collectible-shooting",
   "metadata": {},
   "outputs": [
    {
     "data": {
      "image/png": "[encoded data removed]",
      "text/plain": [
       "<Figure size 432x288 with 1 Axes>"
      ]
     },
     "metadata": {
      "needs_background": "light"
     },
     "output_type": "display_data"
    }
   ],
   "source": [
    "n_clusters=np.arange(2, 10)\n",
    "data=[]\n",
    "\n",
    "for n in n_clusters:\n",
    "    km = KMeans(n, random_state=0)\n",
    "    km = km.fit(x_transformed)\n",
    "    labels = km.predict(x_transformed)\n",
    "    sil = silhouette_score(x_transformed, labels, metric='euclidean')\n",
    "    \n",
    "    data.append([n, sil])\n",
    "\n",
    "ica_kmeans_df = pd.DataFrame(data, columns=[\"Clusters\", \"Silhouette Score\"])\n",
    "\n",
    "plt.title(\"ICA + K-means: \\nNumber of Clusters vs Silhouette Score\")\n",
    "plt.xlabel(\"Number of Clusters\")\n",
    "plt.ylabel(\"Silhouette Score\") \n",
    "\n",
    "plt.plot(ica_kmeans_df[\"Clusters\"], ica_kmeans_df[\"Silhouette Score\"], color='r', label='ICA + K Means')\n",
    "plt.plot(kmeans_df[\"Clusters\"], kmeans_df[\"Silhouette Score\"], color='g', label='K Means')\n",
    "\n",
    "plt.legend()\n",
    "plt.show()"
   ]
  },
  {
   "cell_type": "code",
   "execution_count": null,
   "id": "neutral-status",
   "metadata": {},
   "outputs": [],
   "source": []
  },
  {
   "cell_type": "code",
   "execution_count": null,
   "id": "approximate-champion",
   "metadata": {},
   "outputs": [],
   "source": []
  },
  {
   "cell_type": "markdown",
   "id": "understanding-needle",
   "metadata": {},
   "source": [
    "## 3.4) ICA -> EM"
   ]
  },
  {
   "cell_type": "code",
   "execution_count": 387,
   "id": "operating-midwest",
   "metadata": {},
   "outputs": [],
   "source": [
    "transformer = ICA(n_components=29, random_state=0)\n",
    "x_transformed = transformer.fit_transform(x_train_sc)"
   ]
  },
  {
   "cell_type": "code",
   "execution_count": null,
   "id": "monthly-pharmacy",
   "metadata": {},
   "outputs": [],
   "source": []
  },
  {
   "cell_type": "code",
   "execution_count": 388,
   "id": "certified-selection",
   "metadata": {},
   "outputs": [
    {
     "data": {
      "image/png": "[encoded data removed]",
      "text/plain": [
       "<Figure size 432x288 with 1 Axes>"
      ]
     },
     "metadata": {
      "needs_background": "light"
     },
     "output_type": "display_data"
    }
   ],
   "source": [
    "n_clusters=np.arange(2, 10)\n",
    "data=[]\n",
    "\n",
    "for n in n_clusters:\n",
    "    gmm = GaussianMixture(n, random_state=0)\n",
    "    gmm = gmm.fit(x_transformed)\n",
    "    labels = gmm.predict(x_transformed)\n",
    "    sil = silhouette_score(x_transformed, labels, metric='euclidean')\n",
    "    \n",
    "    data.append([n, sil])\n",
    "\n",
    "pca_em_df = pd.DataFrame(data, columns=[\"Clusters\", \"Silhouette Score\"])\n",
    "\n",
    "plt.title(\"ICA + EM: \\nNumber of Clusters vs Silhouette Score\")\n",
    "plt.xlabel(\"Number of Clusters\")\n",
    "plt.ylabel(\"Silhouette Score\") \n",
    "\n",
    "plt.plot(pca_em_df[\"Clusters\"], pca_em_df[\"Silhouette Score\"], color='r', label='ICA + EM')\n",
    "plt.plot(em_df[\"Clusters\"], em_df[\"Silhouette Score\"], color='g', label='EM')\n",
    "\n",
    "plt.legend()\n",
    "plt.show()"
   ]
  },
  {
   "cell_type": "code",
   "execution_count": null,
   "id": "normal-debut",
   "metadata": {},
   "outputs": [],
   "source": [
    "`"
   ]
  },
  {
   "cell_type": "code",
   "execution_count": null,
   "id": "expensive-practice",
   "metadata": {},
   "outputs": [],
   "source": []
  },
  {
   "cell_type": "code",
   "execution_count": null,
   "id": "everyday-patch",
   "metadata": {},
   "outputs": [],
   "source": []
  },
  {
   "cell_type": "markdown",
   "id": "divided-somalia",
   "metadata": {},
   "source": [
    "## 3.5) RP -> K-means"
   ]
  },
  {
   "cell_type": "code",
   "execution_count": 389,
   "id": "economic-trading",
   "metadata": {},
   "outputs": [],
   "source": [
    "transformer = RP.GaussianRandomProjection(n_components=5, random_state=0)\n",
    "x_transformed = transformer.fit_transform(x_train_sc)"
   ]
  },
  {
   "cell_type": "code",
   "execution_count": null,
   "id": "touched-laugh",
   "metadata": {},
   "outputs": [],
   "source": []
  },
  {
   "cell_type": "code",
   "execution_count": 390,
   "id": "unknown-father",
   "metadata": {},
   "outputs": [
    {
     "data": {
      "image/png": "[encoded data removed]",
      "text/plain": [
       "<Figure size 432x288 with 1 Axes>"
      ]
     },
     "metadata": {
      "needs_background": "light"
     },
     "output_type": "display_data"
    }
   ],
   "source": [
    "n_clusters=np.arange(2, 10)\n",
    "data=[]\n",
    "\n",
    "for n in n_clusters:\n",
    "    km = KMeans(n, random_state=0)\n",
    "    km = km.fit(x_transformed)\n",
    "    labels = km.predict(x_transformed)\n",
    "    sil = silhouette_score(x_transformed, labels, metric='euclidean')\n",
    "    \n",
    "    data.append([n, sil])\n",
    "\n",
    "ica_kmeans_df = pd.DataFrame(data, columns=[\"Clusters\", \"Silhouette Score\"])\n",
    "\n",
    "plt.title(\"RP + K-means: \\nNumber of Clusters vs Silhouette Score\")\n",
    "plt.xlabel(\"Number of Clusters\")\n",
    "plt.ylabel(\"Silhouette Score\") \n",
    "\n",
    "plt.plot(ica_kmeans_df[\"Clusters\"], ica_kmeans_df[\"Silhouette Score\"], color='r', label='RP + K Means')\n",
    "plt.plot(kmeans_df[\"Clusters\"], kmeans_df[\"Silhouette Score\"], color='g', label='K Means')\n",
    "\n",
    "plt.legend()\n",
    "plt.show()"
   ]
  },
  {
   "cell_type": "code",
   "execution_count": null,
   "id": "framed-desire",
   "metadata": {},
   "outputs": [],
   "source": []
  },
  {
   "cell_type": "code",
   "execution_count": null,
   "id": "pressed-microwave",
   "metadata": {},
   "outputs": [],
   "source": []
  },
  {
   "cell_type": "markdown",
   "id": "knowing-comedy",
   "metadata": {},
   "source": [
    "## 3.6) RP -> EM"
   ]
  },
  {
   "cell_type": "code",
   "execution_count": 393,
   "id": "cultural-turning",
   "metadata": {},
   "outputs": [],
   "source": [
    "transformer = RP.GaussianRandomProjection(n_components=5, random_state=0)\n",
    "x_transformed = transformer.fit_transform(x_train_sc)"
   ]
  },
  {
   "cell_type": "code",
   "execution_count": null,
   "id": "still-chapter",
   "metadata": {},
   "outputs": [],
   "source": []
  },
  {
   "cell_type": "code",
   "execution_count": 394,
   "id": "convenient-convertible",
   "metadata": {},
   "outputs": [
    {
     "data": {
      "image/png": "[encoded data removed]",
      "text/plain": [
       "<Figure size 432x288 with 1 Axes>"
      ]
     },
     "metadata": {
      "needs_background": "light"
     },
     "output_type": "display_data"
    }
   ],
   "source": [
    "n_clusters=np.arange(2, 10)\n",
    "data=[]\n",
    "\n",
    "for n in n_clusters:\n",
    "    gmm = GaussianMixture(n, random_state=0)\n",
    "    gmm = gmm.fit(x_transformed)\n",
    "    labels = gmm.predict(x_transformed)\n",
    "    sil = silhouette_score(x_transformed, labels, metric='euclidean')\n",
    "    \n",
    "    data.append([n, sil])\n",
    "\n",
    "pca_em_df = pd.DataFrame(data, columns=[\"Clusters\", \"Silhouette Score\"])\n",
    "\n",
    "plt.title(\"RP + EM: \\nNumber of Clusters vs Silhouette Score\")\n",
    "plt.xlabel(\"Number of Clusters\")\n",
    "plt.ylabel(\"Silhouette Score\") \n",
    "\n",
    "plt.plot(pca_em_df[\"Clusters\"], pca_em_df[\"Silhouette Score\"], color='r', label='RP + EM')\n",
    "plt.plot(em_df[\"Clusters\"], em_df[\"Silhouette Score\"], color='g', label='EM')\n",
    "\n",
    "plt.legend()\n",
    "plt.show()"
   ]
  },
  {
   "cell_type": "code",
   "execution_count": null,
   "id": "violent-telling",
   "metadata": {},
   "outputs": [],
   "source": []
  },
  {
   "cell_type": "code",
   "execution_count": null,
   "id": "engaged-james",
   "metadata": {},
   "outputs": [],
   "source": []
  },
  {
   "cell_type": "code",
   "execution_count": null,
   "id": "modular-radar",
   "metadata": {},
   "outputs": [],
   "source": []
  },
  {
   "cell_type": "markdown",
   "id": "rough-mobility",
   "metadata": {},
   "source": [
    "## LDA -> K-means"
   ]
  },
  {
   "cell_type": "code",
   "execution_count": 397,
   "id": "fallen-yahoo",
   "metadata": {},
   "outputs": [],
   "source": [
    "clf = LDA(n_components=1)\n",
    "x_transformed = clf.fit_transform(x_train_sc, y_train)"
   ]
  },
  {
   "cell_type": "code",
   "execution_count": null,
   "id": "typical-alaska",
   "metadata": {},
   "outputs": [],
   "source": []
  },
  {
   "cell_type": "code",
   "execution_count": 398,
   "id": "invalid-baseball",
   "metadata": {},
   "outputs": [
    {
     "data": {
      "image/png": "[encoded data removed]",
      "text/plain": [
       "<Figure size 432x288 with 1 Axes>"
      ]
     },
     "metadata": {
      "needs_background": "light"
     },
     "output_type": "display_data"
    }
   ],
   "source": [
    "n_clusters=np.arange(2, 10)\n",
    "data=[]\n",
    "\n",
    "for n in n_clusters:\n",
    "    km = KMeans(n, random_state=0)\n",
    "    km = km.fit(x_transformed)\n",
    "    labels = km.predict(x_transformed)\n",
    "    sil = silhouette_score(x_transformed, labels, metric='euclidean')\n",
    "    \n",
    "    data.append([n, sil])\n",
    "\n",
    "ica_kmeans_df = pd.DataFrame(data, columns=[\"Clusters\", \"Silhouette Score\"])\n",
    "\n",
    "plt.title(\"LDA + K-means: \\nNumber of Clusters vs Silhouette Score\")\n",
    "plt.xlabel(\"Number of Clusters\")\n",
    "plt.ylabel(\"Silhouette Score\") \n",
    "\n",
    "plt.plot(ica_kmeans_df[\"Clusters\"], ica_kmeans_df[\"Silhouette Score\"], color='r', label='LDA + K Means')\n",
    "plt.plot(kmeans_df[\"Clusters\"], kmeans_df[\"Silhouette Score\"], color='g', label='K Means')\n",
    "\n",
    "plt.legend()\n",
    "plt.show()"
   ]
  },
  {
   "cell_type": "code",
   "execution_count": null,
   "id": "fantastic-alexander",
   "metadata": {},
   "outputs": [],
   "source": []
  },
  {
   "cell_type": "code",
   "execution_count": null,
   "id": "thorough-gnome",
   "metadata": {},
   "outputs": [],
   "source": []
  },
  {
   "cell_type": "markdown",
   "id": "imported-active",
   "metadata": {},
   "source": [
    "## LDA -> EM"
   ]
  },
  {
   "cell_type": "code",
   "execution_count": 400,
   "id": "individual-phase",
   "metadata": {},
   "outputs": [],
   "source": [
    "clf = LDA(n_components=1)\n",
    "x_transformed = clf.fit_transform(x_train_sc, y_train)"
   ]
  },
  {
   "cell_type": "code",
   "execution_count": null,
   "id": "figured-maximum",
   "metadata": {},
   "outputs": [],
   "source": []
  },
  {
   "cell_type": "code",
   "execution_count": 401,
   "id": "earlier-dealer",
   "metadata": {},
   "outputs": [
    {
     "data": {
      "image/png": "[encoded data removed]",
      "text/plain": [
       "<Figure size 432x288 with 1 Axes>"
      ]
     },
     "metadata": {
      "needs_background": "light"
     },
     "output_type": "display_data"
    }
   ],
   "source": [
    "n_clusters=np.arange(2, 10)\n",
    "data=[]\n",
    "\n",
    "for n in n_clusters:\n",
    "    gmm = GaussianMixture(n, random_state=0)\n",
    "    gmm = gmm.fit(x_transformed)\n",
    "    labels = gmm.predict(x_transformed)\n",
    "    sil = silhouette_score(x_transformed, labels, metric='euclidean')\n",
    "    \n",
    "    data.append([n, sil])\n",
    "\n",
    "pca_em_df = pd.DataFrame(data, columns=[\"Clusters\", \"Silhouette Score\"])\n",
    "\n",
    "plt.title(\"LDA + EM: \\nNumber of Clusters vs Silhouette Score\")\n",
    "plt.xlabel(\"Number of Clusters\")\n",
    "plt.ylabel(\"Silhouette Score\") \n",
    "\n",
    "plt.plot(pca_em_df[\"Clusters\"], pca_em_df[\"Silhouette Score\"], color='r', label='LDA + EM')\n",
    "plt.plot(em_df[\"Clusters\"], em_df[\"Silhouette Score\"], color='g', label='EM')\n",
    "\n",
    "plt.legend()\n",
    "plt.show()"
   ]
  },
  {
   "cell_type": "code",
   "execution_count": null,
   "id": "contrary-maria",
   "metadata": {},
   "outputs": [],
   "source": []
  }
 ],
 "metadata": {
  "kernelspec": {
   "display_name": "Python 3",
   "language": "python",
   "name": "python3"
  },
  "language_info": {
   "codemirror_mode": {
    "name": "ipython",
    "version": 3
   },
   "file_extension": ".py",
   "mimetype": "text/x-python",
   "name": "python",
   "nbconvert_exporter": "python",
   "pygments_lexer": "ipython3",
   "version": "3.6.12"
  }
 },
 "nbformat": 4,
 "nbformat_minor": 5
}
